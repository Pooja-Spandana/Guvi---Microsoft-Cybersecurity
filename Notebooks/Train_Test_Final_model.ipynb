{
 "cells": [
  {
   "cell_type": "markdown",
   "id": "280f2419",
   "metadata": {},
   "source": [
    "### **TRAIN AND EVALUATE THE BEST MODEL**"
   ]
  },
  {
   "cell_type": "code",
   "execution_count": null,
   "id": "7b655506",
   "metadata": {},
   "outputs": [],
   "source": [
    "# Importing required modules\n",
    "import os\n",
    "import pandas as pd\n",
    "from joblib import load, dump\n",
    "from sklearn.model_selection import train_test_split\n",
    "from sklearn.preprocessing import LabelEncoder, StandardScaler\n",
    "from sklearn.ensemble import RandomForestClassifier\n",
    "from imblearn.over_sampling import SMOTE\n",
    "from sklearn.metrics import accuracy_score, confusion_matrix, classification_report "
   ]
  },
  {
   "cell_type": "markdown",
   "id": "60b42fc4",
   "metadata": {},
   "source": [
    "### **Training the best model on the whole train dataset**"
   ]
  },
  {
   "cell_type": "code",
   "execution_count": null,
   "id": "5b837704",
   "metadata": {},
   "outputs": [],
   "source": [
    "# Load dataset\n",
    "train_df = pd.read_csv(r\"C:\\Users\\spand\\Projects\\MICROSOFT_CYBERSECURITY\\Guvi---Microsoft-Cybersecurity\\Data\\Processed\\Train_DS_Cleaned.csv\")\n",
    "\n",
    "# Define features and target variable\n",
    "X = train_df.drop('IncidentGrade', axis=1)\n",
    "y = train_df['IncidentGrade']\n",
    "\n",
    "# Split the dataset into training and validation sets with stratification\n",
    "X_train, X_val, y_train, y_val = train_test_split(X, y, test_size=0.2, random_state=42, stratify=y)\n",
    "\n",
    "# Encoding the target variable\n",
    "le = LabelEncoder()\n",
    "y_train = le.fit_transform(y_train) \n",
    "y_val = le.transform(y_val)\n",
    "\n",
    "# Scale features that are in different ranges\n",
    "scaler = StandardScaler()\n",
    "columns_to_scale = ['Hour', 'Day', 'DayOfWeek', 'Month', 'Year', 'Category', 'EntityType', 'AlertTitle']\n",
    "X_train[columns_to_scale] = scaler.fit_transform(X_train[columns_to_scale])\n",
    "X_val[columns_to_scale] = scaler.transform(X_val[columns_to_scale])\n",
    "\n",
    "# Apply SMOTE to the training data for class imbalance\n",
    "smote = SMOTE(random_state=42)\n",
    "X_train_resampled, y_train_resampled = smote.fit_resample(X_train, y_train)\n",
    "\n",
    "# Initialize Random Forest Classifier \n",
    "hp_tuned_rf = RandomForestClassifier(n_estimators=200, min_samples_split=5, min_samples_leaf=2, max_features=None, max_depth=None, bootstrap=True, random_state=42)\n",
    "\n",
    "# Fit the model\n",
    "hp_tuned_rf.fit(X_train_resampled, y_train_resampled)\n",
    "\n",
    "# Evaluate the best model on validation data\n",
    "y_pred = hp_tuned_rf.predict(X_val)\n",
    "\n",
    "print(\"Accuracy score:\")\n",
    "print(accuracy_score(y_val, y_pred))\n",
    "print(\"Confusion Matrix:\")\n",
    "print(confusion_matrix(y_val, y_pred))\n",
    "print(\"Classification Report:\")\n",
    "print(classification_report(y_val, y_pred, target_names=le.classes_))\n",
    "\n",
    "# Dump the saved model, LabelEncoder, & StandardScaler\n",
    "model_path = r\"C:\\Users\\spand\\Projects\\MICROSOFT_CYBERSECURITY\\Guvi---Microsoft-Cybersecurity\\Models\"\n",
    "dump(le, os.path.join(model_path, \"LabelEncoder.pkl\"))\n",
    "dump(scaler, os.path.join(model_path, \"StandardScaler.pkl\"))\n",
    "dump(hp_tuned_rf, os.path.join(model_path, \"FinalModel.pkl\"))"
   ]
  },
  {
   "cell_type": "markdown",
   "id": "3bd8b72b",
   "metadata": {},
   "source": [
    "### **Evaluating the best model on the test dataset**"
   ]
  },
  {
   "cell_type": "code",
   "execution_count": null,
   "id": "f732e0bf",
   "metadata": {},
   "outputs": [],
   "source": [
    "# Load the test dataset\n",
    "test_df = pd.read_csv(r\"C:\\Users\\spand\\Projects\\MICROSOFT_CYBERSECURITY\\Guvi---Microsoft-Cybersecurity\\Data\\Processed\\Test_DS_Cleaned.csv\")\n",
    "\n",
    "# Load the saved model, LabelEncoder, & StandardScaler\n",
    "best_rf = load(os.path.join(model_path, \"Model.pkl\"))\n",
    "le = load(os.path.join(model_path, \"LabelEncoder.pkl\"))\n",
    "scaler = load(os.path.join(model_path, \"StandardScaler.pkl\"))\n",
    "\n",
    "# Separate features and target\n",
    "X_test = test_df.drop('IncidentGrade', axis=1)\n",
    "y_test = test_df['IncidentGrade']\n",
    "\n",
    "# Encode target\n",
    "y_test_encoded = le.transform(y_test)\n",
    "\n",
    "# Apply same scaling used during training\n",
    "columns_to_scale = ['Hour', 'Day', 'DayOfWeek', 'Month', 'Year', 'Category', 'EntityType', 'AlertTitle']\n",
    "X_test[columns_to_scale] = scaler.transform(X_test[columns_to_scale])\n",
    "\n",
    "# Make predictions\n",
    "y_test_pred = best_rf.predict(X_test)\n",
    "\n",
    "# Evaluate\n",
    "print(\"Accuracy score:\")\n",
    "print(accuracy_score(y_test_encoded, y_test_pred))\n",
    "print(\"\\nConfusion Matrix:\")\n",
    "print(confusion_matrix(y_test_encoded, y_test_pred))\n",
    "print(\"\\nClassification Report:\")\n",
    "print(classification_report(y_test_encoded, y_test_pred, target_names=le.classes_))"
   ]
  }
 ],
 "metadata": {
  "kernelspec": {
   "display_name": ".venv",
   "language": "python",
   "name": "python3"
  },
  "language_info": {
   "name": "python",
   "version": "3.13.2"
  }
 },
 "nbformat": 4,
 "nbformat_minor": 5
}
